{
 "cells": [
  {
   "cell_type": "code",
   "execution_count": 1,
   "metadata": {},
   "outputs": [],
   "source": [
    "import os, re, sys, json, csv, string, gzip\n",
    "import matplotlib.pyplot as plt\n",
    "import numpy as np\n",
    "import pandas as pd"
   ]
  },
  {
   "cell_type": "code",
   "execution_count": 2,
   "metadata": {},
   "outputs": [],
   "source": [
    "sys.path.append('/h/vkpriya/qa_eval/')"
   ]
  },
  {
   "cell_type": "code",
   "execution_count": 4,
   "metadata": {},
   "outputs": [
    {
     "data": {
      "text/plain": [
       "'/ssd005/home/vkpriya/qa_eval/notebooks'"
      ]
     },
     "execution_count": 4,
     "metadata": {},
     "output_type": "execute_result"
    }
   ],
   "source": [
    "os.getcwd()"
   ]
  },
  {
   "cell_type": "code",
   "execution_count": 5,
   "metadata": {},
   "outputs": [
    {
     "name": "stdout",
     "output_type": "stream",
     "text": [
      "coref_matches.csv\n",
      "Emma.tokens\n",
      "Emma.supersense\n",
      "Emma.beforeCoref.entities\n",
      "merged_mentions.csv\n",
      "Emma.entities\n",
      "booknlp_matched_ents.csv\n",
      "Emma.quotes\n",
      "Emma.beforeCoref.refs\n",
      "Emma.book\n",
      "pdncMentions.csv\n",
      "Emma.beforeQA.tokens\n",
      "Emma.book.html\n",
      "Emma.beforeCoref.quotes\n",
      "explicit_mentions.csv\n",
      "Emma.beforeCoref.qattrib\n",
      "Emma.beforeQA.entities\n",
      "Emma.beforeCoref.tokens\n",
      "pdnc_single_mentions.csv\n"
     ]
    }
   ],
   "source": [
    "for file in os.scandir('../booknlpen/pdnc_output/Emma/'):\n",
    "    print(file.name)"
   ]
  },
  {
   "cell_type": "code",
   "execution_count": null,
   "metadata": {},
   "outputs": [],
   "source": []
  }
 ],
 "metadata": {
  "kernelspec": {
   "display_name": "Python 3",
   "language": "python",
   "name": "python3"
  },
  "language_info": {
   "codemirror_mode": {
    "name": "ipython",
    "version": 3
   },
   "file_extension": ".py",
   "mimetype": "text/x-python",
   "name": "python",
   "nbconvert_exporter": "python",
   "pygments_lexer": "ipython3",
   "version": "3.8.3"
  }
 },
 "nbformat": 4,
 "nbformat_minor": 4
}
